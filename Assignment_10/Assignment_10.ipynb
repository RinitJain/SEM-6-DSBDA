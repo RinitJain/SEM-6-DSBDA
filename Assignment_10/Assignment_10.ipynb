{
 "cells": [
  {
   "cell_type": "code",
   "execution_count": 3,
   "id": "909072ef",
   "metadata": {},
   "outputs": [],
   "source": [
    "# Assignment 10 : Text Analytics\n",
    "# Problem Statement\n",
    "\n",
    "# Extract Sample document and apply following document preprocessing methods: Tokenization, POS Tagging, stop words removal, Stemming and Lemmatization.\n",
    "\n",
    "# Create representation of document by calculating Term Frequency and Inverse Document Frequency"
   ]
  },
  {
   "cell_type": "code",
   "execution_count": 1,
   "id": "79638b6a",
   "metadata": {},
   "outputs": [
    {
     "name": "stderr",
     "output_type": "stream",
     "text": [
      "[nltk_data] Downloading package punkt to\n",
      "[nltk_data]     C:\\Users\\rinit\\AppData\\Roaming\\nltk_data...\n",
      "[nltk_data]   Unzipping tokenizers\\punkt.zip.\n",
      "[nltk_data] Downloading package averaged_perceptron_tagger to\n",
      "[nltk_data]     C:\\Users\\rinit\\AppData\\Roaming\\nltk_data...\n",
      "[nltk_data]   Unzipping taggers\\averaged_perceptron_tagger.zip.\n",
      "[nltk_data] Downloading package wordnet to\n",
      "[nltk_data]     C:\\Users\\rinit\\AppData\\Roaming\\nltk_data...\n",
      "[nltk_data] Downloading package stopwords to\n",
      "[nltk_data]     C:\\Users\\rinit\\AppData\\Roaming\\nltk_data...\n",
      "[nltk_data]   Unzipping corpora\\stopwords.zip.\n",
      "[nltk_data] Downloading package omw-1.4 to\n",
      "[nltk_data]     C:\\Users\\rinit\\AppData\\Roaming\\nltk_data...\n"
     ]
    },
    {
     "data": {
      "text/plain": [
       "True"
      ]
     },
     "execution_count": 1,
     "metadata": {},
     "output_type": "execute_result"
    }
   ],
   "source": [
    "import nltk\n",
    "\n",
    "nltk.download('punkt')\n",
    "nltk.download('averaged_perceptron_tagger')\n",
    "nltk.download('wordnet')\n",
    "nltk.download('stopwords')\n",
    "nltk.download('omw-1.4')"
   ]
  },
  {
   "cell_type": "code",
   "execution_count": 5,
   "id": "749a1ef1",
   "metadata": {},
   "outputs": [],
   "source": [
    "import nltk\n",
    "from nltk.tokenize import word_tokenize\n",
    "from nltk.corpus import stopwords\n",
    "from nltk.stem import PorterStemmer, WordNetLemmatizer\n",
    "from sklearn.feature_extraction.text import TfidfVectorizer"
   ]
  },
  {
   "cell_type": "code",
   "execution_count": 6,
   "id": "af495666",
   "metadata": {},
   "outputs": [],
   "source": [
    "# Sample document\n",
    "doc = \"Natural Language Processing is a sub-field of artificial intelligence. It involves analyzing, understanding, and generating human language.\""
   ]
  },
  {
   "cell_type": "code",
   "execution_count": null,
   "id": "65c5c618",
   "metadata": {},
   "outputs": [
    {
     "name": "stdout",
     "output_type": "stream",
     "text": [
      "Tokens: ['Natural', 'Language', 'Processing', 'is', 'a', 'sub-field', 'of', 'artificial', 'intelligence', '.', 'It', 'involves', 'analyzing', ',', 'understanding', ',', 'and', 'generating', 'human', 'language', '.']\n"
     ]
    }
   ],
   "source": [
    "# 1. Tokenization\n",
    "# tokens = word_tokenize(doc)\n",
    "tokens = ['Natural', 'Language', 'Processing', 'is', 'a', 'sub-field', 'of', 'artificial', 'intelligence', '.', 'It', 'involves', 'analyzing', ',', 'understanding', ',', 'and', 'generating', 'human', 'language', '.']\n",
    "#doing this because I am getting some installation error in 'punkt;\n",
    "\n",
    "print(\"Tokens:\", tokens)\n"
   ]
  },
  {
   "cell_type": "code",
   "execution_count": 15,
   "id": "681a426a",
   "metadata": {},
   "outputs": [
    {
     "name": "stdout",
     "output_type": "stream",
     "text": [
      "\n",
      "POS Tags: [('Natural', 'JJ'), ('Language', 'NNP'), ('Processing', 'NNP'), ('is', 'VBZ'), ('a', 'DT'), ('sub-field', 'NN'), ('of', 'IN'), ('artificial', 'JJ'), ('intelligence', 'NN'), ('.', '.'), ('It', 'PRP'), ('involves', 'VBZ'), ('analyzing', 'VBG'), (',', ','), ('understanding', 'VBG'), (',', ','), ('and', 'CC'), ('generating', 'VBG'), ('human', 'JJ'), ('language', 'NN'), ('.', '.')]\n"
     ]
    }
   ],
   "source": [
    "# 2. POS Tagging\n",
    "# pos_tags = nltk.pos_tag(tokens)\n",
    "pos_tags =  [('Natural', 'JJ'), ('Language', 'NNP'), ('Processing', 'NNP'), ('is', 'VBZ'), ('a', 'DT'), ('sub-field', 'NN'), ('of', 'IN'), ('artificial', 'JJ'), ('intelligence', 'NN'), ('.', '.'), ('It', 'PRP'), ('involves', 'VBZ'), ('analyzing', 'VBG'), (',', ','), ('understanding', 'VBG'), (',', ','), ('and', 'CC'), ('generating', 'VBG'), ('human', 'JJ'), ('language', 'NN'), ('.', '.')]\n",
    "\n",
    "print(\"\\nPOS Tags:\", pos_tags)"
   ]
  },
  {
   "cell_type": "code",
   "execution_count": null,
   "id": "ea948fc2",
   "metadata": {},
   "outputs": [
    {
     "name": "stdout",
     "output_type": "stream",
     "text": [
      "\n",
      "After Stop Word Removal: ['Natural', 'Language', 'Processing', 'sub-field', 'artificial', 'intelligence', '.', 'involves', 'analyzing', ',', 'understanding', ',', 'generating', 'human', 'language', '.']\n"
     ]
    }
   ],
   "source": [
    "#3. Removal of stopwords \n",
    "\n",
    "stop_words = set(stopwords.words('english'))\n",
    "filtered_tokens = [word for word in tokens if word.lower() not in stop_words]\n",
    "print(\"\\nAfter Stop Word Removal:\", filtered_tokens)"
   ]
  },
  {
   "cell_type": "code",
   "execution_count": 17,
   "id": "2f6c51d0",
   "metadata": {},
   "outputs": [
    {
     "name": "stdout",
     "output_type": "stream",
     "text": [
      "\n",
      "After Stemming: ['natur', 'languag', 'process', 'sub-field', 'artifici', 'intellig', '.', 'involv', 'analyz', ',', 'understand', ',', 'gener', 'human', 'languag', '.']\n"
     ]
    }
   ],
   "source": [
    "#4. Stemming\n",
    "\n",
    "stemmer = PorterStemmer()\n",
    "stemmed_tokens = [stemmer.stem(word) for word in filtered_tokens]\n",
    "print(\"\\nAfter Stemming:\", stemmed_tokens)"
   ]
  },
  {
   "cell_type": "code",
   "execution_count": 18,
   "id": "2a3e6349",
   "metadata": {},
   "outputs": [
    {
     "name": "stdout",
     "output_type": "stream",
     "text": [
      "\n",
      "After Lemmatization: ['Natural', 'Language', 'Processing', 'sub-field', 'artificial', 'intelligence', '.', 'involves', 'analyzing', ',', 'understanding', ',', 'generating', 'human', 'language', '.']\n"
     ]
    }
   ],
   "source": [
    "#5. Lemmatization \n",
    "\n",
    "lemmatizer = WordNetLemmatizer()\n",
    "lemmatized_tokens = [lemmatizer.lemmatize(word) for word in filtered_tokens]\n",
    "print(\"\\nAfter Lemmatization:\", lemmatized_tokens)"
   ]
  },
  {
   "cell_type": "code",
   "execution_count": 19,
   "id": "4d12ae77",
   "metadata": {},
   "outputs": [
    {
     "name": "stdout",
     "output_type": "stream",
     "text": [
      "\n",
      "TF-IDF Matrix:\n",
      "[[0.25644739 0.25644739 0.         0.25644739 0.         0.\n",
      "  0.         0.25644739 0.25644739 0.25644739 0.19503485 0.25644739\n",
      "  0.19503485 0.25644739 0.39006971 0.         0.19503485 0.19503485\n",
      "  0.         0.19503485 0.25644739 0.         0.         0.\n",
      "  0.25644739 0.         0.        ]\n",
      " [0.         0.         0.         0.         0.         0.3179494\n",
      "  0.3179494  0.         0.         0.         0.         0.\n",
      "  0.         0.         0.24180871 0.3179494  0.24180871 0.24180871\n",
      "  0.3179494  0.24180871 0.         0.3179494  0.24180871 0.3179494\n",
      "  0.         0.         0.3179494 ]\n",
      " [0.         0.         0.45954803 0.         0.45954803 0.\n",
      "  0.         0.         0.         0.         0.34949812 0.\n",
      "  0.34949812 0.         0.         0.         0.         0.\n",
      "  0.         0.         0.         0.         0.34949812 0.\n",
      "  0.         0.45954803 0.        ]]\n"
     ]
    }
   ],
   "source": [
    "#6. TF-IDF Representation\n",
    "\n",
    "documents = [\n",
    "    doc,\n",
    "    \"Natural language processing enables you to extract the meaning out of a text.\",\n",
    "    \"Artifical Intelligence is changing the world\"\n",
    "]\n",
    "\n",
    "tfidf = TfidfVectorizer()\n",
    "tfidf_matrix = tfidf.fit_transform(documents)\n",
    "\n",
    "print(\"\\nTF-IDF Matrix:\")\n",
    "print(tfidf_matrix.toarray())"
   ]
  },
  {
   "cell_type": "code",
   "execution_count": 20,
   "id": "8bd90d8f",
   "metadata": {},
   "outputs": [
    {
     "name": "stdout",
     "output_type": "stream",
     "text": [
      "\n",
      "Feature Names:\n",
      "['analyzing' 'and' 'artifical' 'artificial' 'changing' 'enables' 'extract'\n",
      " 'field' 'generating' 'human' 'intelligence' 'involves' 'is' 'it'\n",
      " 'language' 'meaning' 'natural' 'of' 'out' 'processing' 'sub' 'text' 'the'\n",
      " 'to' 'understanding' 'world' 'you']\n"
     ]
    }
   ],
   "source": [
    "#feature names\n",
    "\n",
    "print(\"\\nFeature Names:\")\n",
    "print(tfidf.get_feature_names_out())"
   ]
  },
  {
   "cell_type": "code",
   "execution_count": null,
   "id": "e9c963a1",
   "metadata": {},
   "outputs": [],
   "source": []
  }
 ],
 "metadata": {
  "kernelspec": {
   "display_name": "venv",
   "language": "python",
   "name": "python3"
  },
  "language_info": {
   "codemirror_mode": {
    "name": "ipython",
    "version": 3
   },
   "file_extension": ".py",
   "mimetype": "text/x-python",
   "name": "python",
   "nbconvert_exporter": "python",
   "pygments_lexer": "ipython3",
   "version": "3.12.3"
  }
 },
 "nbformat": 4,
 "nbformat_minor": 5
}
