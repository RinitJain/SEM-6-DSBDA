{
 "cells": [
  {
   "cell_type": "code",
   "execution_count": 1,
   "id": "4dc5947e",
   "metadata": {},
   "outputs": [],
   "source": [
    "# Assignment 9 - Data Analytics III\n",
    "# Problem Statement\n",
    "\n",
    "# Implement Simple Naïve Bayes classification algorithm using Python/R on iris.csv dataset.\n",
    "# Compute Confusion matrix to find TP, FP, TN, FN, Accuracy, Error rate, Precision, Recall on the given dataset."
   ]
  },
  {
   "cell_type": "code",
   "execution_count": null,
   "id": "e95d1c83",
   "metadata": {},
   "outputs": [],
   "source": []
  }
 ],
 "metadata": {
  "kernelspec": {
   "display_name": "venv",
   "language": "python",
   "name": "python3"
  },
  "language_info": {
   "codemirror_mode": {
    "name": "ipython",
    "version": 3
   },
   "file_extension": ".py",
   "mimetype": "text/x-python",
   "name": "python",
   "nbconvert_exporter": "python",
   "pygments_lexer": "ipython3",
   "version": "3.12.3"
  }
 },
 "nbformat": 4,
 "nbformat_minor": 5
}
